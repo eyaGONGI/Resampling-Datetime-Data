{
 "cells": [
  {
   "cell_type": "code",
   "execution_count": 1,
   "id": "3c882679-16eb-4bed-9158-b48cdc10c4ec",
   "metadata": {},
   "outputs": [],
   "source": [
    "import pandas as pd \n",
    "import matplotlib.pyplot as plt\n",
    "from matplotlib import dates as mdates\n",
    "import seaborn as sns"
   ]
  },
  {
   "cell_type": "markdown",
   "id": "fed5c460-a8b4-4467-a756-18b8bbc94c36",
   "metadata": {},
   "source": [
    "# Part 1) Load the data and make a datetime index"
   ]
  },
  {
   "cell_type": "code",
   "execution_count": 2,
   "id": "af7608a0-91e4-4e7d-887b-0ae52aa5acf8",
   "metadata": {},
   "outputs": [
    {
     "data": {
      "text/html": [
       "<div>\n",
       "<style scoped>\n",
       "    .dataframe tbody tr th:only-of-type {\n",
       "        vertical-align: middle;\n",
       "    }\n",
       "\n",
       "    .dataframe tbody tr th {\n",
       "        vertical-align: top;\n",
       "    }\n",
       "\n",
       "    .dataframe thead th {\n",
       "        text-align: right;\n",
       "    }\n",
       "</style>\n",
       "<table border=\"1\" class=\"dataframe\">\n",
       "  <thead>\n",
       "    <tr style=\"text-align: right;\">\n",
       "      <th></th>\n",
       "      <th>date</th>\n",
       "      <th>cloud_cover</th>\n",
       "      <th>sunshine</th>\n",
       "      <th>global_radiation</th>\n",
       "      <th>max_temp</th>\n",
       "      <th>mean_temp</th>\n",
       "      <th>min_temp</th>\n",
       "      <th>precipitation</th>\n",
       "      <th>pressure</th>\n",
       "      <th>snow_depth</th>\n",
       "    </tr>\n",
       "  </thead>\n",
       "  <tbody>\n",
       "    <tr>\n",
       "      <th>0</th>\n",
       "      <td>19790101</td>\n",
       "      <td>2.0</td>\n",
       "      <td>7.0</td>\n",
       "      <td>52.0</td>\n",
       "      <td>2.3</td>\n",
       "      <td>-4.1</td>\n",
       "      <td>-7.5</td>\n",
       "      <td>0.4</td>\n",
       "      <td>101900.0</td>\n",
       "      <td>9.0</td>\n",
       "    </tr>\n",
       "    <tr>\n",
       "      <th>1</th>\n",
       "      <td>19790102</td>\n",
       "      <td>6.0</td>\n",
       "      <td>1.7</td>\n",
       "      <td>27.0</td>\n",
       "      <td>1.6</td>\n",
       "      <td>-2.6</td>\n",
       "      <td>-7.5</td>\n",
       "      <td>0.0</td>\n",
       "      <td>102530.0</td>\n",
       "      <td>8.0</td>\n",
       "    </tr>\n",
       "    <tr>\n",
       "      <th>2</th>\n",
       "      <td>19790103</td>\n",
       "      <td>5.0</td>\n",
       "      <td>0.0</td>\n",
       "      <td>13.0</td>\n",
       "      <td>1.3</td>\n",
       "      <td>-2.8</td>\n",
       "      <td>-7.2</td>\n",
       "      <td>0.0</td>\n",
       "      <td>102050.0</td>\n",
       "      <td>4.0</td>\n",
       "    </tr>\n",
       "    <tr>\n",
       "      <th>3</th>\n",
       "      <td>19790104</td>\n",
       "      <td>8.0</td>\n",
       "      <td>0.0</td>\n",
       "      <td>13.0</td>\n",
       "      <td>-0.3</td>\n",
       "      <td>-2.6</td>\n",
       "      <td>-6.5</td>\n",
       "      <td>0.0</td>\n",
       "      <td>100840.0</td>\n",
       "      <td>2.0</td>\n",
       "    </tr>\n",
       "    <tr>\n",
       "      <th>4</th>\n",
       "      <td>19790105</td>\n",
       "      <td>6.0</td>\n",
       "      <td>2.0</td>\n",
       "      <td>29.0</td>\n",
       "      <td>5.6</td>\n",
       "      <td>-0.8</td>\n",
       "      <td>-1.4</td>\n",
       "      <td>0.0</td>\n",
       "      <td>102250.0</td>\n",
       "      <td>1.0</td>\n",
       "    </tr>\n",
       "  </tbody>\n",
       "</table>\n",
       "</div>"
      ],
      "text/plain": [
       "       date  cloud_cover  sunshine  global_radiation  max_temp  mean_temp  \\\n",
       "0  19790101          2.0       7.0              52.0       2.3       -4.1   \n",
       "1  19790102          6.0       1.7              27.0       1.6       -2.6   \n",
       "2  19790103          5.0       0.0              13.0       1.3       -2.8   \n",
       "3  19790104          8.0       0.0              13.0      -0.3       -2.6   \n",
       "4  19790105          6.0       2.0              29.0       5.6       -0.8   \n",
       "\n",
       "   min_temp  precipitation  pressure  snow_depth  \n",
       "0      -7.5            0.4  101900.0         9.0  \n",
       "1      -7.5            0.0  102530.0         8.0  \n",
       "2      -7.2            0.0  102050.0         4.0  \n",
       "3      -6.5            0.0  100840.0         2.0  \n",
       "4      -1.4            0.0  102250.0         1.0  "
      ]
     },
     "execution_count": 2,
     "metadata": {},
     "output_type": "execute_result"
    }
   ],
   "source": [
    "df = pd.read_csv('C:/Users/Dell/Downloads/london_weather_MODIFIED - london_weather_MODIFIED (1).csv')\n",
    "df.head(5)"
   ]
  },
  {
   "cell_type": "markdown",
   "id": "03abbd19-3c7c-439d-b808-433b10efa632",
   "metadata": {},
   "source": [
    "Convert the date column to datetime dtype"
   ]
  },
  {
   "cell_type": "code",
   "execution_count": 4,
   "id": "dbe68bf8-092f-4b90-914a-52bcd6abe282",
   "metadata": {},
   "outputs": [
    {
     "data": {
      "text/plain": [
       "0       1979-01-01\n",
       "1       1979-01-02\n",
       "2       1979-01-03\n",
       "3       1979-01-04\n",
       "4       1979-01-05\n",
       "           ...    \n",
       "15336   2020-12-27\n",
       "15337   2020-12-28\n",
       "15338   2020-12-29\n",
       "15339   2020-12-30\n",
       "15340   2020-12-31\n",
       "Name: date, Length: 15341, dtype: datetime64[ns]"
      ]
     },
     "execution_count": 4,
     "metadata": {},
     "output_type": "execute_result"
    }
   ],
   "source": [
    "df['date'] = pd.to_datetime(df['date'], format='%Y%m%d')\n",
    "df['date']"
   ]
  },
  {
   "cell_type": "markdown",
   "id": "78bbbd36-aece-45ae-843d-1f9b5a8b0f64",
   "metadata": {},
   "source": [
    "Set the date column as the index."
   ]
  },
  {
   "cell_type": "code",
   "execution_count": 5,
   "id": "36bd38cc-6071-41ed-a04d-776071534a2f",
   "metadata": {},
   "outputs": [
    {
     "data": {
      "text/html": [
       "<div>\n",
       "<style scoped>\n",
       "    .dataframe tbody tr th:only-of-type {\n",
       "        vertical-align: middle;\n",
       "    }\n",
       "\n",
       "    .dataframe tbody tr th {\n",
       "        vertical-align: top;\n",
       "    }\n",
       "\n",
       "    .dataframe thead th {\n",
       "        text-align: right;\n",
       "    }\n",
       "</style>\n",
       "<table border=\"1\" class=\"dataframe\">\n",
       "  <thead>\n",
       "    <tr style=\"text-align: right;\">\n",
       "      <th></th>\n",
       "      <th>cloud_cover</th>\n",
       "      <th>sunshine</th>\n",
       "      <th>global_radiation</th>\n",
       "      <th>max_temp</th>\n",
       "      <th>mean_temp</th>\n",
       "      <th>min_temp</th>\n",
       "      <th>precipitation</th>\n",
       "      <th>pressure</th>\n",
       "      <th>snow_depth</th>\n",
       "    </tr>\n",
       "    <tr>\n",
       "      <th>date</th>\n",
       "      <th></th>\n",
       "      <th></th>\n",
       "      <th></th>\n",
       "      <th></th>\n",
       "      <th></th>\n",
       "      <th></th>\n",
       "      <th></th>\n",
       "      <th></th>\n",
       "      <th></th>\n",
       "    </tr>\n",
       "  </thead>\n",
       "  <tbody>\n",
       "    <tr>\n",
       "      <th>1979-01-01</th>\n",
       "      <td>2.0</td>\n",
       "      <td>7.0</td>\n",
       "      <td>52.0</td>\n",
       "      <td>2.3</td>\n",
       "      <td>-4.1</td>\n",
       "      <td>-7.5</td>\n",
       "      <td>0.4</td>\n",
       "      <td>101900.0</td>\n",
       "      <td>9.0</td>\n",
       "    </tr>\n",
       "    <tr>\n",
       "      <th>1979-01-02</th>\n",
       "      <td>6.0</td>\n",
       "      <td>1.7</td>\n",
       "      <td>27.0</td>\n",
       "      <td>1.6</td>\n",
       "      <td>-2.6</td>\n",
       "      <td>-7.5</td>\n",
       "      <td>0.0</td>\n",
       "      <td>102530.0</td>\n",
       "      <td>8.0</td>\n",
       "    </tr>\n",
       "  </tbody>\n",
       "</table>\n",
       "</div>"
      ],
      "text/plain": [
       "            cloud_cover  sunshine  global_radiation  max_temp  mean_temp  \\\n",
       "date                                                                       \n",
       "1979-01-01          2.0       7.0              52.0       2.3       -4.1   \n",
       "1979-01-02          6.0       1.7              27.0       1.6       -2.6   \n",
       "\n",
       "            min_temp  precipitation  pressure  snow_depth  \n",
       "date                                                       \n",
       "1979-01-01      -7.5            0.4  101900.0         9.0  \n",
       "1979-01-02      -7.5            0.0  102530.0         8.0  "
      ]
     },
     "execution_count": 5,
     "metadata": {},
     "output_type": "execute_result"
    }
   ],
   "source": [
    "df = df.set_index('date')\n",
    "df.head(2)"
   ]
  },
  {
   "cell_type": "markdown",
   "id": "d3f9e7a0-5d61-4e02-b1c5-81574b40c904",
   "metadata": {},
   "source": [
    "### Filter out only the required data:\n",
    "\n",
    "\n",
    "Keep only data from the year 2000 or later.\n",
    "\n",
    "\n",
    "Keep only the following features:\n",
    "\n",
    "\n",
    "* precipitation\n",
    "\n",
    "\n",
    "* mean_temp\n",
    "\n",
    "\n",
    "* min_temp\n",
    "\n",
    "\n",
    "* max_temp\n",
    "\n",
    "\n",
    "* snow_depth"
   ]
  },
  {
   "cell_type": "code",
   "execution_count": 6,
   "id": "c618ad1a-7216-4f9c-b930-891bb92ef781",
   "metadata": {},
   "outputs": [
    {
     "data": {
      "text/html": [
       "<div>\n",
       "<style scoped>\n",
       "    .dataframe tbody tr th:only-of-type {\n",
       "        vertical-align: middle;\n",
       "    }\n",
       "\n",
       "    .dataframe tbody tr th {\n",
       "        vertical-align: top;\n",
       "    }\n",
       "\n",
       "    .dataframe thead th {\n",
       "        text-align: right;\n",
       "    }\n",
       "</style>\n",
       "<table border=\"1\" class=\"dataframe\">\n",
       "  <thead>\n",
       "    <tr style=\"text-align: right;\">\n",
       "      <th></th>\n",
       "      <th>precipitation</th>\n",
       "      <th>mean_temp</th>\n",
       "      <th>min_temp</th>\n",
       "      <th>max_temp</th>\n",
       "      <th>snow_depth</th>\n",
       "    </tr>\n",
       "    <tr>\n",
       "      <th>date</th>\n",
       "      <th></th>\n",
       "      <th></th>\n",
       "      <th></th>\n",
       "      <th></th>\n",
       "      <th></th>\n",
       "    </tr>\n",
       "  </thead>\n",
       "  <tbody>\n",
       "    <tr>\n",
       "      <th>2000-01-01</th>\n",
       "      <td>0.0</td>\n",
       "      <td>7.0</td>\n",
       "      <td>4.9</td>\n",
       "      <td>10.8</td>\n",
       "      <td>0.0</td>\n",
       "    </tr>\n",
       "    <tr>\n",
       "      <th>2000-01-02</th>\n",
       "      <td>0.2</td>\n",
       "      <td>7.9</td>\n",
       "      <td>5.0</td>\n",
       "      <td>11.5</td>\n",
       "      <td>0.0</td>\n",
       "    </tr>\n",
       "    <tr>\n",
       "      <th>2000-01-03</th>\n",
       "      <td>6.0</td>\n",
       "      <td>9.4</td>\n",
       "      <td>7.2</td>\n",
       "      <td>9.5</td>\n",
       "      <td>0.0</td>\n",
       "    </tr>\n",
       "    <tr>\n",
       "      <th>2000-01-04</th>\n",
       "      <td>0.2</td>\n",
       "      <td>7.0</td>\n",
       "      <td>4.4</td>\n",
       "      <td>11.0</td>\n",
       "      <td>0.0</td>\n",
       "    </tr>\n",
       "    <tr>\n",
       "      <th>2000-01-05</th>\n",
       "      <td>0.8</td>\n",
       "      <td>6.4</td>\n",
       "      <td>1.9</td>\n",
       "      <td>10.8</td>\n",
       "      <td>0.0</td>\n",
       "    </tr>\n",
       "    <tr>\n",
       "      <th>2000-01-06</th>\n",
       "      <td>0.0</td>\n",
       "      <td>8.9</td>\n",
       "      <td>7.0</td>\n",
       "      <td>11.0</td>\n",
       "      <td>0.0</td>\n",
       "    </tr>\n",
       "    <tr>\n",
       "      <th>2000-01-07</th>\n",
       "      <td>2.0</td>\n",
       "      <td>7.2</td>\n",
       "      <td>3.4</td>\n",
       "      <td>9.2</td>\n",
       "      <td>0.0</td>\n",
       "    </tr>\n",
       "    <tr>\n",
       "      <th>2000-01-08</th>\n",
       "      <td>0.0</td>\n",
       "      <td>7.4</td>\n",
       "      <td>5.7</td>\n",
       "      <td>7.2</td>\n",
       "      <td>0.0</td>\n",
       "    </tr>\n",
       "    <tr>\n",
       "      <th>2000-01-09</th>\n",
       "      <td>0.2</td>\n",
       "      <td>3.2</td>\n",
       "      <td>-0.7</td>\n",
       "      <td>7.8</td>\n",
       "      <td>0.0</td>\n",
       "    </tr>\n",
       "    <tr>\n",
       "      <th>2000-01-10</th>\n",
       "      <td>0.0</td>\n",
       "      <td>2.2</td>\n",
       "      <td>-3.3</td>\n",
       "      <td>10.2</td>\n",
       "      <td>0.0</td>\n",
       "    </tr>\n",
       "  </tbody>\n",
       "</table>\n",
       "</div>"
      ],
      "text/plain": [
       "            precipitation  mean_temp  min_temp  max_temp  snow_depth\n",
       "date                                                                \n",
       "2000-01-01            0.0        7.0       4.9      10.8         0.0\n",
       "2000-01-02            0.2        7.9       5.0      11.5         0.0\n",
       "2000-01-03            6.0        9.4       7.2       9.5         0.0\n",
       "2000-01-04            0.2        7.0       4.4      11.0         0.0\n",
       "2000-01-05            0.8        6.4       1.9      10.8         0.0\n",
       "2000-01-06            0.0        8.9       7.0      11.0         0.0\n",
       "2000-01-07            2.0        7.2       3.4       9.2         0.0\n",
       "2000-01-08            0.0        7.4       5.7       7.2         0.0\n",
       "2000-01-09            0.2        3.2      -0.7       7.8         0.0\n",
       "2000-01-10            0.0        2.2      -3.3      10.2         0.0"
      ]
     },
     "execution_count": 6,
     "metadata": {},
     "output_type": "execute_result"
    }
   ],
   "source": [
    "df = df.loc['2000':, ['precipitation', 'mean_temp', 'min_temp', 'max_temp', 'snow_depth']]\n",
    "df.head(10)"
   ]
  },
  {
   "cell_type": "code",
   "execution_count": 7,
   "id": "7c8f6ed2-2940-40b8-8540-f4ea06cf4434",
   "metadata": {},
   "outputs": [
    {
     "data": {
      "text/plain": [
       "precipitation     390\n",
       "mean_temp         419\n",
       "min_temp          386\n",
       "max_temp          390\n",
       "snow_depth       1752\n",
       "dtype: int64"
      ]
     },
     "execution_count": 7,
     "metadata": {},
     "output_type": "execute_result"
    }
   ],
   "source": [
    "df.isna().sum()"
   ]
  },
  {
   "cell_type": "code",
   "execution_count": 8,
   "id": "415f8098-eb64-4921-b7a7-658ff82871db",
   "metadata": {},
   "outputs": [],
   "source": [
    "df['mean_temp'] = df['mean_temp'].interpolate()\n",
    "df['max_temp'] = df['max_temp'].interpolate()\n",
    "df['min_temp'] = df['min_temp'].interpolate()"
   ]
  },
  {
   "cell_type": "code",
   "execution_count": 9,
   "id": "4e378180-eec8-4357-bd55-c29436479c06",
   "metadata": {},
   "outputs": [
    {
     "data": {
      "text/plain": [
       "precipitation     390\n",
       "mean_temp           0\n",
       "min_temp            0\n",
       "max_temp            0\n",
       "snow_depth       1752\n",
       "dtype: int64"
      ]
     },
     "execution_count": 9,
     "metadata": {},
     "output_type": "execute_result"
    }
   ],
   "source": [
    "df.isna().sum()"
   ]
  },
  {
   "cell_type": "code",
   "execution_count": 10,
   "id": "b8789998-a216-4a94-a9fa-140a54f0b653",
   "metadata": {},
   "outputs": [],
   "source": [
    "df['precipitation'] = df['precipitation'].fillna(0)\n",
    "df['snow_depth'] = df['snow_depth'].fillna(0)"
   ]
  },
  {
   "cell_type": "code",
   "execution_count": 11,
   "id": "8a56b242-7c68-4b96-a689-a150b35f3643",
   "metadata": {},
   "outputs": [
    {
     "data": {
      "text/plain": [
       "precipitation    0\n",
       "mean_temp        0\n",
       "min_temp         0\n",
       "max_temp         0\n",
       "snow_depth       0\n",
       "dtype: int64"
      ]
     },
     "execution_count": 11,
     "metadata": {},
     "output_type": "execute_result"
    }
   ],
   "source": [
    "df.isna().sum()"
   ]
  },
  {
   "cell_type": "markdown",
   "id": "b9309b90-8faf-4629-9c3e-4f2762a3f4e6",
   "metadata": {},
   "source": [
    "# Part 2) Answer the Questions with Visualizations "
   ]
  },
  {
   "cell_type": "markdown",
   "id": "a4d5ab59-ade2-40f9-ac72-92af83f6b860",
   "metadata": {},
   "source": [
    "## Q1: What month had the most precipitation between 2000 through 2010?"
   ]
  },
  {
   "cell_type": "code",
   "execution_count": 12,
   "id": "5ecde1dd-90a5-43a6-877d-98cbc9feae2f",
   "metadata": {},
   "outputs": [
    {
     "data": {
      "text/html": [
       "<div>\n",
       "<style scoped>\n",
       "    .dataframe tbody tr th:only-of-type {\n",
       "        vertical-align: middle;\n",
       "    }\n",
       "\n",
       "    .dataframe tbody tr th {\n",
       "        vertical-align: top;\n",
       "    }\n",
       "\n",
       "    .dataframe thead th {\n",
       "        text-align: right;\n",
       "    }\n",
       "</style>\n",
       "<table border=\"1\" class=\"dataframe\">\n",
       "  <thead>\n",
       "    <tr style=\"text-align: right;\">\n",
       "      <th></th>\n",
       "      <th>precipitation</th>\n",
       "      <th>snow_depth</th>\n",
       "    </tr>\n",
       "    <tr>\n",
       "      <th>date</th>\n",
       "      <th></th>\n",
       "      <th></th>\n",
       "    </tr>\n",
       "  </thead>\n",
       "  <tbody>\n",
       "    <tr>\n",
       "      <th>2000-01-01</th>\n",
       "      <td>0.0</td>\n",
       "      <td>0.0</td>\n",
       "    </tr>\n",
       "    <tr>\n",
       "      <th>2000-01-02</th>\n",
       "      <td>0.2</td>\n",
       "      <td>0.0</td>\n",
       "    </tr>\n",
       "    <tr>\n",
       "      <th>2000-01-03</th>\n",
       "      <td>6.0</td>\n",
       "      <td>0.0</td>\n",
       "    </tr>\n",
       "    <tr>\n",
       "      <th>2000-01-04</th>\n",
       "      <td>0.2</td>\n",
       "      <td>0.0</td>\n",
       "    </tr>\n",
       "    <tr>\n",
       "      <th>2000-01-05</th>\n",
       "      <td>0.8</td>\n",
       "      <td>0.0</td>\n",
       "    </tr>\n",
       "    <tr>\n",
       "      <th>...</th>\n",
       "      <td>...</td>\n",
       "      <td>...</td>\n",
       "    </tr>\n",
       "    <tr>\n",
       "      <th>2010-12-27</th>\n",
       "      <td>5.0</td>\n",
       "      <td>1.0</td>\n",
       "    </tr>\n",
       "    <tr>\n",
       "      <th>2010-12-28</th>\n",
       "      <td>0.4</td>\n",
       "      <td>0.0</td>\n",
       "    </tr>\n",
       "    <tr>\n",
       "      <th>2010-12-29</th>\n",
       "      <td>1.4</td>\n",
       "      <td>0.0</td>\n",
       "    </tr>\n",
       "    <tr>\n",
       "      <th>2010-12-30</th>\n",
       "      <td>0.0</td>\n",
       "      <td>0.0</td>\n",
       "    </tr>\n",
       "    <tr>\n",
       "      <th>2010-12-31</th>\n",
       "      <td>0.0</td>\n",
       "      <td>0.0</td>\n",
       "    </tr>\n",
       "  </tbody>\n",
       "</table>\n",
       "<p>4018 rows × 2 columns</p>\n",
       "</div>"
      ],
      "text/plain": [
       "            precipitation  snow_depth\n",
       "date                                 \n",
       "2000-01-01            0.0         0.0\n",
       "2000-01-02            0.2         0.0\n",
       "2000-01-03            6.0         0.0\n",
       "2000-01-04            0.2         0.0\n",
       "2000-01-05            0.8         0.0\n",
       "...                   ...         ...\n",
       "2010-12-27            5.0         1.0\n",
       "2010-12-28            0.4         0.0\n",
       "2010-12-29            1.4         0.0\n",
       "2010-12-30            0.0         0.0\n",
       "2010-12-31            0.0         0.0\n",
       "\n",
       "[4018 rows x 2 columns]"
      ]
     },
     "execution_count": 12,
     "metadata": {},
     "output_type": "execute_result"
    }
   ],
   "source": [
    "temp_cols = ['precipitation', 'snow_depth']\n",
    "temp_df  = df.loc[\"2000\":\"2010\",temp_cols]\n",
    "temp_df"
   ]
  },
  {
   "cell_type": "code",
   "execution_count": 19,
   "id": "9d7a32d5-9ba9-4f07-95c2-1af8380f981e",
   "metadata": {},
   "outputs": [],
   "source": [
    "ts = df['precipitation'].copy()\n"
   ]
  },
  {
   "cell_type": "markdown",
   "id": "7de83222-5399-44ea-b2c8-a9d07e3b056f",
   "metadata": {},
   "source": [
    "Resample the precipitation column to a Monthly frequency using .sum() as the aggregation method"
   ]
  },
  {
   "cell_type": "code",
   "execution_count": 20,
   "id": "70c87caa-6d8c-4734-8cc7-0595c74c649c",
   "metadata": {},
   "outputs": [
    {
     "data": {
      "text/plain": [
       "date\n",
       "2000-01-01    14.3\n",
       "2000-02-01    62.2\n",
       "2000-03-01    13.4\n",
       "2000-04-01    71.8\n",
       "2000-05-01    68.4\n",
       "Freq: MS, Name: Resampled, dtype: float64"
      ]
     },
     "execution_count": 20,
     "metadata": {},
     "output_type": "execute_result"
    }
   ],
   "source": [
    "ts_MS_res = ts.resample(\"MS\").sum()\n",
    "ts_MS_res.name = 'Resampled'\n",
    "ts_MS_res.head()"
   ]
  },
  {
   "cell_type": "markdown",
   "id": "a016f9d6-6486-4a83-8999-3e06e780edb3",
   "metadata": {},
   "source": [
    "Find the date and corresponding value for the max precipitation."
   ]
  },
  {
   "cell_type": "code",
   "execution_count": 25,
   "id": "9ada5e71-1bb6-47c4-adfa-c49ba2d741ee",
   "metadata": {},
   "outputs": [
    {
     "name": "stdout",
     "output_type": "stream",
     "text": [
      "            precipitation  mean_temp  min_temp  max_temp  snow_depth\n",
      "date                                                                \n",
      "2015-08-26           51.6       17.0      14.1      19.6         0.0\n"
     ]
    }
   ],
   "source": [
    "df_plot= df[df['precipitation']==df['precipitation'].max()]\n",
    "print(df_plot)"
   ]
  },
  {
   "cell_type": "markdown",
   "id": "cd8eca7e-ea7c-4ded-b7e3-e17f08a42c18",
   "metadata": {},
   "source": [
    "Plot the feature and time period that corresponds to the question."
   ]
  },
  {
   "cell_type": "code",
   "execution_count": 44,
   "id": "143090ab-ee13-4261-8d97-455aafd280cb",
   "metadata": {},
   "outputs": [
    {
     "data": {
      "image/png": "[encoded data removed]",
      "text/plain": [
       "<Figure size 1200x300 with 1 Axes>"
      ]
     },
     "metadata": {},
     "output_type": "display_data"
    }
   ],
   "source": [
    "fig, ax = plt.subplots(figsize=(12,3))\n",
    "ts_MS_res.plot(ax=ax)\n",
    "\n",
    "ax.set(title='Precipitation for 2000-2010', ylabel='Inches')\n",
    "\n",
    "major_loca =  mdates.YearLocator(1)\n",
    "major_fmt = mdates.DateFormatter(\"%Y\")\n",
    "\n",
    "ax.xaxis.set_major_locator(major_loca)\n",
    "ax.xaxis.set_major_formatter(major_fmt)\n",
    "\n",
    "minor_loc =  mdates.MonthLocator(3)\n",
    "minor_fmt = mdates.DateFormatter(\"%b\")\n",
    "\n",
    "ax.xaxis.set_minor_locator(minor_loc)\n",
    "ax.xaxis.set_minor_formatter(minor_fmt)\n",
    "ax.axvline('2015-08-26', color='slategray',ls=':',lw=3, label= 'August 2015' )\n",
    "ax.legend()\n",
    "fig.autofmt_xdate(which='major',rotation=90)\n"
   ]
  },
  {
   "cell_type": "markdown",
   "id": "6167f160-1224-416d-a4ca-f4e95e67ed2c",
   "metadata": {},
   "source": [
    "## Q2: Which year between 2000-2020 had the coolest average temperature?"
   ]
  },
  {
   "cell_type": "code",
   "execution_count": 37,
   "id": "abe202b0-7642-4462-8420-976dac850698",
   "metadata": {},
   "outputs": [
    {
     "data": {
      "text/html": [
       "<div>\n",
       "<style scoped>\n",
       "    .dataframe tbody tr th:only-of-type {\n",
       "        vertical-align: middle;\n",
       "    }\n",
       "\n",
       "    .dataframe tbody tr th {\n",
       "        vertical-align: top;\n",
       "    }\n",
       "\n",
       "    .dataframe thead th {\n",
       "        text-align: right;\n",
       "    }\n",
       "</style>\n",
       "<table border=\"1\" class=\"dataframe\">\n",
       "  <thead>\n",
       "    <tr style=\"text-align: right;\">\n",
       "      <th></th>\n",
       "      <th>mean_temp</th>\n",
       "    </tr>\n",
       "    <tr>\n",
       "      <th>date</th>\n",
       "      <th></th>\n",
       "    </tr>\n",
       "  </thead>\n",
       "  <tbody>\n",
       "    <tr>\n",
       "      <th>2000-01-01</th>\n",
       "      <td>7.0</td>\n",
       "    </tr>\n",
       "    <tr>\n",
       "      <th>2000-01-02</th>\n",
       "      <td>7.9</td>\n",
       "    </tr>\n",
       "    <tr>\n",
       "      <th>2000-01-03</th>\n",
       "      <td>9.4</td>\n",
       "    </tr>\n",
       "    <tr>\n",
       "      <th>2000-01-04</th>\n",
       "      <td>7.0</td>\n",
       "    </tr>\n",
       "    <tr>\n",
       "      <th>2000-01-05</th>\n",
       "      <td>6.4</td>\n",
       "    </tr>\n",
       "    <tr>\n",
       "      <th>...</th>\n",
       "      <td>...</td>\n",
       "    </tr>\n",
       "    <tr>\n",
       "      <th>2020-12-27</th>\n",
       "      <td>7.5</td>\n",
       "    </tr>\n",
       "    <tr>\n",
       "      <th>2020-12-28</th>\n",
       "      <td>1.1</td>\n",
       "    </tr>\n",
       "    <tr>\n",
       "      <th>2020-12-29</th>\n",
       "      <td>2.6</td>\n",
       "    </tr>\n",
       "    <tr>\n",
       "      <th>2020-12-30</th>\n",
       "      <td>2.7</td>\n",
       "    </tr>\n",
       "    <tr>\n",
       "      <th>2020-12-31</th>\n",
       "      <td>-0.8</td>\n",
       "    </tr>\n",
       "  </tbody>\n",
       "</table>\n",
       "<p>7671 rows × 1 columns</p>\n",
       "</div>"
      ],
      "text/plain": [
       "            mean_temp\n",
       "date                 \n",
       "2000-01-01        7.0\n",
       "2000-01-02        7.9\n",
       "2000-01-03        9.4\n",
       "2000-01-04        7.0\n",
       "2000-01-05        6.4\n",
       "...               ...\n",
       "2020-12-27        7.5\n",
       "2020-12-28        1.1\n",
       "2020-12-29        2.6\n",
       "2020-12-30        2.7\n",
       "2020-12-31       -0.8\n",
       "\n",
       "[7671 rows x 1 columns]"
      ]
     },
     "execution_count": 37,
     "metadata": {},
     "output_type": "execute_result"
    }
   ],
   "source": [
    "temp_cols = [ 'mean_temp']\n",
    "temp_df  = df.loc[\"2000\":\"2020\",temp_cols]\n",
    "temp_df"
   ]
  },
  {
   "cell_type": "markdown",
   "id": "878b13e6-73ab-450b-a913-478625d74644",
   "metadata": {},
   "source": [
    "Resample the  mean_temp data to a Yearly frequency using .mean() as the aggregation method."
   ]
  },
  {
   "cell_type": "code",
   "execution_count": 38,
   "id": "ba39a7de-b072-4c52-8c89-a1ef2936d285",
   "metadata": {},
   "outputs": [],
   "source": [
    "ts1 = df['mean_temp'].copy()"
   ]
  },
  {
   "cell_type": "code",
   "execution_count": 39,
   "id": "e1c98b99-e073-4856-9e7a-6a9ae7436c36",
   "metadata": {},
   "outputs": [
    {
     "data": {
      "text/plain": [
       "date\n",
       "2000-01-01     5.614516\n",
       "2000-02-01     7.181034\n",
       "2000-03-01     8.491935\n",
       "2000-04-01     8.996667\n",
       "2000-05-01    13.798387\n",
       "Freq: MS, Name: Resampled, dtype: float64"
      ]
     },
     "execution_count": 39,
     "metadata": {},
     "output_type": "execute_result"
    }
   ],
   "source": [
    "ts_MS_res1 = ts1.resample(\"MS\").mean()\n",
    "ts_MS_res1.name = 'Resampled'\n",
    "ts_MS_res1.head()"
   ]
  },
  {
   "cell_type": "markdown",
   "id": "9390e745-52b0-4640-8b74-547485b7034c",
   "metadata": {},
   "source": [
    "Plot the feature and time period that corresponds to the question"
   ]
  },
  {
   "cell_type": "code",
   "execution_count": 46,
   "id": "ab798a42-015c-4159-a31d-6f8ff50f2293",
   "metadata": {},
   "outputs": [
    {
     "data": {
      "image/png": "[encoded data removed]",
      "text/plain": [
       "<Figure size 1200x300 with 1 Axes>"
      ]
     },
     "metadata": {},
     "output_type": "display_data"
    }
   ],
   "source": [
    "fig, ax = plt.subplots(figsize=(12,3))\n",
    "ts_MS_res1.plot(ax=ax)\n",
    "ax.set(title='Average Temperature', ylabel='Degrees')\n",
    "\n",
    "major_loc =  mdates.YearLocator(5)\n",
    "major_fmt = mdates.DateFormatter(\"%Y\")\n",
    "\n",
    "ax.xaxis.set_major_locator(major_loc)\n",
    "ax.xaxis.set_major_formatter(major_fmt)\n",
    "\n",
    "minor_loc =  mdates.YearLocator(1)\n",
    "minor_fmt = mdates.DateFormatter(\"%Y\")\n",
    "\n",
    "ax.xaxis.set_minor_locator(minor_loc)\n",
    "ax.xaxis.set_minor_formatter(minor_fmt)\n",
    "ax.axvline('2010-12-20', color='slategray',ls=':',lw=3, label= '2010' )\n",
    "\n",
    "ax.legend()\n",
    "fig.autofmt_xdate(which='major',rotation=90)\n"
   ]
  },
  {
   "cell_type": "markdown",
   "id": "8bb331f3-b419-4f0c-aa3d-931e3bd49e6d",
   "metadata": {},
   "source": [
    "Determine the year and value for the lowest mean temp."
   ]
  },
  {
   "cell_type": "code",
   "execution_count": 42,
   "id": "dcb1ec45-2616-4eff-b993-fc9c5cea57aa",
   "metadata": {},
   "outputs": [
    {
     "name": "stdout",
     "output_type": "stream",
     "text": [
      "            precipitation  mean_temp  min_temp  max_temp  snow_depth\n",
      "date                                                                \n",
      "2010-12-20            0.0       -4.1      -9.4       1.8         5.0\n"
     ]
    }
   ],
   "source": [
    "df_min= df[df['mean_temp']==df['mean_temp'].min()]\n",
    "print(df_min)"
   ]
  },
  {
   "cell_type": "code",
   "execution_count": null,
   "id": "17680546-2f69-4c64-a1ee-9f8d5c592979",
   "metadata": {},
   "outputs": [],
   "source": []
  }
 ],
 "metadata": {
  "kernelspec": {
   "display_name": "Python 3 (ipykernel)",
   "language": "python",
   "name": "python3"
  },
  "language_info": {
   "codemirror_mode": {
    "name": "ipython",
    "version": 3
   },
   "file_extension": ".py",
   "mimetype": "text/x-python",
   "name": "python",
   "nbconvert_exporter": "python",
   "pygments_lexer": "ipython3",
   "version": "3.10.10"
  },
  "widgets": {
   "application/vnd.jupyter.widget-state+json": {
    "state": {},
    "version_major": 2,
    "version_minor": 0
   }
  }
 },
 "nbformat": 4,
 "nbformat_minor": 5
}
